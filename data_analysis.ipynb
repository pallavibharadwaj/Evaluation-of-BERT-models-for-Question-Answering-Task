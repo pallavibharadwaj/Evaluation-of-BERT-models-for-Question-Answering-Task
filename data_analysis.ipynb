{
 "cells": [
  {
   "cell_type": "code",
   "execution_count": 1,
   "metadata": {
    "ExecuteTime": {
     "end_time": "2020-12-08T08:23:27.725492Z",
     "start_time": "2020-12-08T08:23:26.972253Z"
    },
    "_cell_guid": "b1076dfc-b9ad-4769-8c92-a6c4dae69d19",
    "_uuid": "8f2839f25d086af736a60e9eeb907d3b93b6e0e5"
   },
   "outputs": [],
   "source": [
    "# This Python 3 environment comes with many helpful analytics libraries installed\n",
    "# It is defined by the kaggle/python Docker image: https://github.com/kaggle/docker-python\n",
    "# For example, here's several helpful packages to load\n",
    "\n",
    "import numpy as np # linear algebra\n",
    "import json\n",
    "import sys\n",
    "import argparse\n",
    "import nltk\n",
    "from pprint import pprint\n",
    "from tqdm import tqdm\n",
    "import pandas as pd # data processing, CSV file I/O (e.g. pd.read_csv)\n",
    "\n",
    "# Input data files are available in the read-only \"../input/\" directory\n",
    "# For example, running this (by clicking run or pressing Shift+Enter) will list all files under the input directory\n",
    "\n",
    "import os\n",
    "for dirname, _, filenames in os.walk('/kaggle/input'):\n",
    "    for filename in filenames:\n",
    "        print(os.path.join(dirname, filename))\n",
    "\n",
    "# You can write up to 20GB to the current directory (/kaggle/working/) that gets preserved as output when you create a version using \"Save & Run All\" \n",
    "# You can also write temporary files to /kaggle/temp/, but they won't be saved outside of the current session"
   ]
  },
  {
   "cell_type": "code",
   "execution_count": 2,
   "metadata": {
    "ExecuteTime": {
     "end_time": "2020-12-08T08:23:27.728528Z",
     "start_time": "2020-12-08T08:23:27.726650Z"
    }
   },
   "outputs": [],
   "source": [
    "os.makedirs(\"./data/preprocessed/\", exist_ok=True)"
   ]
  },
  {
   "cell_type": "code",
   "execution_count": 3,
   "metadata": {
    "ExecuteTime": {
     "end_time": "2020-12-08T08:23:27.738259Z",
     "start_time": "2020-12-08T08:23:27.729773Z"
    }
   },
   "outputs": [
    {
     "data": {
      "text/plain": [
       "'UTF-8'"
      ]
     },
     "execution_count": 3,
     "metadata": {},
     "output_type": "execute_result"
    }
   ],
   "source": [
    "sys.stdout.encoding"
   ]
  },
  {
   "cell_type": "code",
   "execution_count": 4,
   "metadata": {
    "ExecuteTime": {
     "end_time": "2020-12-08T08:23:27.756613Z",
     "start_time": "2020-12-08T08:23:27.739494Z"
    }
   },
   "outputs": [],
   "source": [
    "def setup_args():\n",
    "    parser = argparse.ArgumentParser()\n",
    "    parser.add_argument(\"--data_dir\", required=True)\n",
    "    return parser.parse_args()\n",
    "\n",
    "\n",
    "def write_to_file(out_file, line):\n",
    "    out_file.write(line+'\\n')\n",
    "\n",
    "\n",
    "def data_from_json(filename):\n",
    "    \"\"\"Loads JSON data from filename and returns\"\"\"\n",
    "    with open(filename) as data_file:\n",
    "        data = json.load(data_file)\n",
    "    return data\n",
    "\n",
    "def tokenize(sequence):\n",
    "    tokens = [token.replace(\"``\", '\"').replace(\"''\", '\"').lower() for token in nltk.word_tokenize(sequence)]\n",
    "    return tokens\n",
    "\n",
    "def get_character_indices_mapping(context, context_tokens):\n",
    "    \n",
    "    acc = '' \n",
    "    current_token_idx = 0 # current word loc\n",
    "    mapping = dict()\n",
    "    \n",
    "    for char_idx, char in enumerate(context):\n",
    "        if(char != ' ' and char != '\\n'):\n",
    "            acc += char\n",
    "            context_token = context_tokens[current_token_idx] # current word token\n",
    "            if(acc == context_token):\n",
    "                start_ind = char_idx - len(acc) + 1\n",
    "                for char_loc in range(start_ind, char_idx+1):\n",
    "                    mapping[char_loc] = (acc, current_token_idx)\n",
    "                acc = ''\n",
    "                current_token_idx += 1\n",
    "               \n",
    "\n",
    "    if(current_token_idx != len(context_tokens)):\n",
    "        return None\n",
    "    else:\n",
    "        return mapping\n",
    "    \n",
    "def total_exs(dataset):\n",
    "    \"\"\"\n",
    "    Returns the total number of (context, question, answer) triples,\n",
    "    given the data read from the SQuAD json file.\n",
    "    \"\"\"\n",
    "    total = 0\n",
    "    for article in dataset['data']:\n",
    "        for para in article['paragraphs']:\n",
    "            total += len(para['qas'])\n",
    "    return total\n",
    "\n",
    "    \n",
    "def preprocess_and_write(dataset, devOrTrain, out_dir):\n",
    "    \n",
    "    num_exs = 0 # number of examples written to file\n",
    "    num_mappingprob, num_tokenprob, num_spanalignprob, num_impossibleqs = 0, 0, 0, 0\n",
    "    examples = []\n",
    "\n",
    "    for articles_id in tqdm(range(len(dataset['data'])), desc=\"Preprocessing {}\".format(devOrTrain)):\n",
    "        article_paragraphs = dataset['data'][articles_id]['paragraphs']\n",
    "        \n",
    "        for pid in range(len(article_paragraphs)):\n",
    "            context = article_paragraphs[pid]['context'] # string\n",
    "            \n",
    "            context = context.replace(\"''\", '\" ')\n",
    "            context = context.replace(\"``\", '\" ')\n",
    "\n",
    "            context_tokens = tokenize(context) # list of strings (lowercase)\n",
    "            context = context.lower()\n",
    "            \n",
    "            qas = article_paragraphs[pid]['qas'] # list of questions\n",
    "            charloc2wordloc = get_character_indices_mapping(context, context_tokens)\n",
    "             \n",
    "            if charloc2wordloc is None: # there was a problem\n",
    "                num_mappingprob += len(qas)\n",
    "                continue # skip this context example\n",
    "\n",
    "            # for each question, process the question and answer and write to file\n",
    "            \n",
    "            for qn in qas:\n",
    "                question = qn['question'] # string\n",
    "                question_tokens = tokenize(question) \n",
    "                \n",
    "\n",
    "                # of the three answers, just take the first\n",
    "                # if it is impossible\n",
    "                if(qn[\"is_impossible\"] == True):\n",
    "                    num_impossibleqs +=1 \n",
    "                else:\n",
    "                    ans_text = (qn['answers'][0]['text']).lower()\n",
    "                    ans_start_charloc = qn['answers'][0]['answer_start'] \n",
    "                    ans_end_charloc = ans_start_charloc + len(ans_text) \n",
    "                \n",
    "                    if context[ans_start_charloc:ans_end_charloc] != ans_text:\n",
    "                        num_spanalignprob += 1\n",
    "                        continue\n",
    "                    \n",
    "                    ans_start_wordloc = charloc2wordloc[ans_start_charloc][1] # answer start word loc\n",
    "                    ans_end_wordloc = charloc2wordloc[ans_end_charloc-1][1] # answer end word loc\n",
    "                    assert ans_start_wordloc <= ans_end_wordloc\n",
    "                    \n",
    "                    ans_tokens = context_tokens[ans_start_wordloc:ans_end_wordloc+1]\n",
    "                    if \"\".join(ans_tokens) != \"\".join(ans_text.split()):\n",
    "                        num_tokenprob += 1\n",
    "                        continue # skip this question/answer pair\n",
    "\n",
    "                    examples.append((' '.join(context_tokens), ' '.join(question_tokens), ' '.join(ans_tokens), ' '.join([str(ans_start_wordloc), str(ans_end_wordloc)])))\n",
    "                    num_exs += 1\n",
    "                \n",
    "    print(\"Number of (context, question, answer) triples discarded due to char -> token mapping problems: \", num_mappingprob)\n",
    "    print(\"Number of (context, question, answer) triples discarded because character-based answer span is unaligned with tokenization: \", num_tokenprob)\n",
    "    print(\"Number of (context, question, answer) triples discarded due character span alignment problems (usually Unicode problems): \", num_spanalignprob)\n",
    "    print(\"Number of (context, question, answer) triples with impossible answers: \", num_impossibleqs)\n",
    "    print(\"Processed %i examples of total %i\\n\" % (num_exs, num_exs + num_mappingprob + num_tokenprob + num_spanalignprob + num_impossibleqs))\n",
    "\n",
    "    # shuffle examples\n",
    "    indices = list(range(len(examples)))\n",
    "    np.random.shuffle(indices)\n",
    "\n",
    "    with open(os.path.join(out_dir, devOrTrain +'.context'), 'w') as context_file,  \\\n",
    "         open(os.path.join(out_dir, devOrTrain +'.question'), 'w') as question_file,\\\n",
    "         open(os.path.join(out_dir, devOrTrain +'.answer'), 'w') as ans_text_file, \\\n",
    "         open(os.path.join(out_dir, devOrTrain +'.span'), 'w') as span_file:\n",
    "\n",
    "        for i in indices:\n",
    "            (context, question, answer, answer_span) = examples[i]\n",
    "\n",
    "            # write tokenized data to file\n",
    "            write_to_file(context_file, context)\n",
    "            write_to_file(question_file, question)\n",
    "            write_to_file(ans_text_file, answer)\n",
    "            write_to_file(span_file, answer_span)\n",
    "\n",
    "        "
   ]
  },
  {
   "cell_type": "code",
   "execution_count": 5,
   "metadata": {
    "ExecuteTime": {
     "end_time": "2020-12-08T08:23:27.762500Z",
     "start_time": "2020-12-08T08:23:27.757759Z"
    }
   },
   "outputs": [],
   "source": [
    "data_folder_name= \"data\"\n",
    "\n",
    "if not os.path.exists(data_folder_name):\n",
    "    os.makedirs(data_folder_name)\n",
    "    \n",
    "train_filename = \"train-v2.0.json\"\n",
    "dev_filename = \"dev-v2.0.json\"\n",
    "\n",
    "train_data_dir = \"./data/\"\n",
    "dev_data_dir = \"./data/\""
   ]
  },
  {
   "cell_type": "code",
   "execution_count": 6,
   "metadata": {
    "ExecuteTime": {
     "end_time": "2020-12-08T08:23:28.465384Z",
     "start_time": "2020-12-08T08:23:27.763507Z"
    }
   },
   "outputs": [
    {
     "name": "stdout",
     "output_type": "stream",
     "text": [
      "Train data has 130319 examples total\n",
      "Dev data has 11873 examples total\n"
     ]
    }
   ],
   "source": [
    "train_data = data_from_json(os.path.join(train_data_dir, train_filename))\n",
    "print(\"Train data has %i examples total\" % total_exs(train_data))\n",
    "dev_data = data_from_json(os.path.join(dev_data_dir, dev_filename))\n",
    "print(\"Dev data has %i examples total\" % total_exs(dev_data))"
   ]
  },
  {
   "cell_type": "code",
   "execution_count": 7,
   "metadata": {
    "ExecuteTime": {
     "end_time": "2020-12-08T08:23:31.023521Z",
     "start_time": "2020-12-08T08:23:28.466451Z"
    }
   },
   "outputs": [
    {
     "name": "stderr",
     "output_type": "stream",
     "text": [
      "Preprocessing dev: 100%|██████████| 35/35 [00:02<00:00, 13.80it/s]"
     ]
    },
    {
     "name": "stdout",
     "output_type": "stream",
     "text": [
      "Number of (context, question, answer) triples discarded due to char -> token mapping problems:  0\n",
      "Number of (context, question, answer) triples discarded because character-based answer span is unaligned with tokenization:  71\n",
      "Number of (context, question, answer) triples discarded due character span alignment problems (usually Unicode problems):  0\n",
      "Number of (context, question, answer) triples with impossible answers:  5945\n",
      "Processed 5857 examples of total 11873\n",
      "\n"
     ]
    },
    {
     "name": "stderr",
     "output_type": "stream",
     "text": [
      "\n"
     ]
    }
   ],
   "source": [
    "preprocess_and_write(dev_data, 'dev', \"./data/preprocessed/\")"
   ]
  },
  {
   "cell_type": "code",
   "execution_count": 8,
   "metadata": {
    "ExecuteTime": {
     "end_time": "2020-12-08T08:24:11.950084Z",
     "start_time": "2020-12-08T08:23:31.025208Z"
    }
   },
   "outputs": [
    {
     "name": "stderr",
     "output_type": "stream",
     "text": [
      "Preprocessing train: 100%|██████████| 442/442 [00:40<00:00, 10.89it/s]\n"
     ]
    },
    {
     "name": "stdout",
     "output_type": "stream",
     "text": [
      "Number of (context, question, answer) triples discarded due to char -> token mapping problems:  147\n",
      "Number of (context, question, answer) triples discarded because character-based answer span is unaligned with tokenization:  1156\n",
      "Number of (context, question, answer) triples discarded due character span alignment problems (usually Unicode problems):  23\n",
      "Number of (context, question, answer) triples with impossible answers:  43448\n",
      "Processed 85545 examples of total 130319\n",
      "\n"
     ]
    }
   ],
   "source": [
    "preprocess_and_write(train_data, 'train', \"./data/preprocessed/\")"
   ]
  },
  {
   "cell_type": "code",
   "execution_count": 9,
   "metadata": {
    "ExecuteTime": {
     "end_time": "2020-12-08T08:24:12.735587Z",
     "start_time": "2020-12-08T08:24:11.951576Z"
    }
   },
   "outputs": [
    {
     "name": "stdout",
     "output_type": "stream",
     "text": [
      "85545\n"
     ]
    }
   ],
   "source": [
    "train_context = os.path.join(\"./data/preprocessed/\",\"train.context\")\n",
    "\n",
    "context_len = []\n",
    "\n",
    "with open(train_context) as fp:  \n",
    "    lines = fp.readlines()\n",
    "    print(len(lines))\n",
    "    for line in lines:\n",
    "        words = len(line.split())\n",
    "        context_len.append(words)"
   ]
  },
  {
   "cell_type": "code",
   "execution_count": 10,
   "metadata": {
    "ExecuteTime": {
     "end_time": "2020-12-08T08:24:12.739988Z",
     "start_time": "2020-12-08T08:24:12.736764Z"
    }
   },
   "outputs": [
    {
     "data": {
      "text/plain": [
       "[142, 119, 209, 84, 33, 156, 107, 93, 382, 103]"
      ]
     },
     "execution_count": 10,
     "metadata": {},
     "output_type": "execute_result"
    }
   ],
   "source": [
    "context_len[0:10]"
   ]
  },
  {
   "cell_type": "code",
   "execution_count": 11,
   "metadata": {
    "ExecuteTime": {
     "end_time": "2020-12-08T08:24:13.656513Z",
     "start_time": "2020-12-08T08:24:12.741484Z"
    }
   },
   "outputs": [
    {
     "name": "stderr",
     "output_type": "stream",
     "text": [
      "/home/pallavi/git/course/nlpclass-1207-g-enigma/project/qa_env/lib/python3.7/site-packages/seaborn/distributions.py:2551: FutureWarning: `distplot` is a deprecated function and will be removed in a future version. Please adapt your code to use either `displot` (a figure-level function with similar flexibility) or `histplot` (an axes-level function for histograms).\n",
      "  warnings.warn(msg, FutureWarning)\n"
     ]
    },
    {
     "data": {
      "image/png": "[encoded data removed]",
      "text/plain": [
       "<Figure size 432x288 with 1 Axes>"
      ]
     },
     "metadata": {},
     "output_type": "display_data"
    }
   ],
   "source": [
    "import matplotlib.pyplot as plt\n",
    "%matplotlib inline\n",
    "import seaborn as sns\n",
    "sns.set(color_codes=True)\n",
    "ax = sns.distplot(context_len)\n",
    "ax.set_title('Distribution of Context Length')\n",
    "ax.set_ylabel('Density')\n",
    "plt.savefig('./assets/context_length.png')\n",
    "plt.show()"
   ]
  },
  {
   "cell_type": "code",
   "execution_count": 12,
   "metadata": {
    "ExecuteTime": {
     "end_time": "2020-12-08T08:24:13.675250Z",
     "start_time": "2020-12-08T08:24:13.657889Z"
    }
   },
   "outputs": [
    {
     "name": "stdout",
     "output_type": "stream",
     "text": [
      "Min:    22\n",
      "Max:    766\n",
      "Mean:    137.91703781635397\n",
      "25th percentile:    102.0\n",
      "Median:             127.0\n",
      "75th percentile:    164.0\n",
      "95th percentile:    245.0\n",
      "99th percentile:    324.5599999999977\n"
     ]
    }
   ],
   "source": [
    "context_array = np.array(context_len)\n",
    "\n",
    "print(\"Min:   \", np.min(context_array))\n",
    "print(\"Max:   \", np.max(context_array))\n",
    "print(\"Mean:   \", np.mean(context_array))\n",
    "print(\"25th percentile:   \", np.percentile(context_array, 25))\n",
    "print(\"Median:            \", np.median(context_array))\n",
    "print(\"75th percentile:   \", np.percentile(context_array, 75))\n",
    "print(\"95th percentile:   \", np.percentile(context_array, 95))\n",
    "print(\"99th percentile:   \", np.percentile(context_array, 99))"
   ]
  },
  {
   "cell_type": "code",
   "execution_count": 13,
   "metadata": {
    "ExecuteTime": {
     "end_time": "2020-12-08T08:24:13.814240Z",
     "start_time": "2020-12-08T08:24:13.676972Z"
    }
   },
   "outputs": [
    {
     "name": "stdout",
     "output_type": "stream",
     "text": [
      "85545\n",
      "85545\n"
     ]
    }
   ],
   "source": [
    "train_ques = os.path.join(\"./data/preprocessed/\",\"train.question\")\n",
    "\n",
    "ques_len = []\n",
    "train_ans = os.path.join(\"./data/preprocessed/\",\"train.answer\")\n",
    "\n",
    "ans_len = []\n",
    "\n",
    "with open(train_ans) as fp:  \n",
    "    lines = fp.readlines()\n",
    "    print(len(lines))\n",
    "    for line in lines:\n",
    "        words = len(line.split())\n",
    "        ans_len.append(words)\n",
    "with open(train_ques) as fp:  \n",
    "    lines = fp.readlines()\n",
    "    print(len(lines))\n",
    "    for line in lines:\n",
    "        words = len(line.split())\n",
    "        ques_len.append(words)"
   ]
  },
  {
   "cell_type": "code",
   "execution_count": 14,
   "metadata": {
    "ExecuteTime": {
     "end_time": "2020-12-08T08:24:14.003534Z",
     "start_time": "2020-12-08T08:24:13.815519Z"
    }
   },
   "outputs": [
    {
     "data": {
      "image/png": "[encoded data removed]",
      "text/plain": [
       "<Figure size 432x288 with 1 Axes>"
      ]
     },
     "metadata": {},
     "output_type": "display_data"
    }
   ],
   "source": [
    "plt.plot(ques_len)\n",
    "plt.ylabel('Question Length')\n",
    "plt.show()"
   ]
  },
  {
   "cell_type": "code",
   "execution_count": 15,
   "metadata": {
    "ExecuteTime": {
     "end_time": "2020-12-08T08:24:14.744717Z",
     "start_time": "2020-12-08T08:24:14.005224Z"
    }
   },
   "outputs": [
    {
     "name": "stderr",
     "output_type": "stream",
     "text": [
      "/home/pallavi/git/course/nlpclass-1207-g-enigma/project/qa_env/lib/python3.7/site-packages/seaborn/distributions.py:2551: FutureWarning: `distplot` is a deprecated function and will be removed in a future version. Please adapt your code to use either `displot` (a figure-level function with similar flexibility) or `histplot` (an axes-level function for histograms).\n",
      "  warnings.warn(msg, FutureWarning)\n"
     ]
    },
    {
     "data": {
      "image/png": "[encoded data removed]",
      "text/plain": [
       "<Figure size 432x288 with 1 Axes>"
      ]
     },
     "metadata": {},
     "output_type": "display_data"
    }
   ],
   "source": [
    "import matplotlib.pyplot as plt\n",
    "%matplotlib inline\n",
    "import seaborn as sns\n",
    "sns.set(color_codes=True)\n",
    "ax = sns.distplot(ques_len)\n",
    "ax.set_title('Distribution of Question Length')\n",
    "ax.set_ylabel('Density')\n",
    "plt.savefig('./assets/question_length.png')\n",
    "plt.show()"
   ]
  },
  {
   "cell_type": "code",
   "execution_count": 16,
   "metadata": {
    "ExecuteTime": {
     "end_time": "2020-12-08T08:24:14.761754Z",
     "start_time": "2020-12-08T08:24:14.745881Z"
    }
   },
   "outputs": [
    {
     "name": "stdout",
     "output_type": "stream",
     "text": [
      "Min:    1\n",
      "Max:    60\n",
      "Mean:    11.296019638786603\n",
      "25th percentile:    9.0\n",
      "Median:             11.0\n",
      "75th percentile:    13.0\n",
      "95th percentile:    18.0\n",
      "99th percentile:    23.0\n"
     ]
    }
   ],
   "source": [
    "ques_array = np.array(ques_len)\n",
    "\n",
    "print(\"Min:   \", np.min(ques_array))\n",
    "print(\"Max:   \", np.max(ques_array))\n",
    "print(\"Mean:   \", np.mean(ques_array))\n",
    "print(\"25th percentile:   \", np.percentile(ques_array, 25))\n",
    "print(\"Median:            \", np.median(ques_array))\n",
    "print(\"75th percentile:   \", np.percentile(ques_array, 75))\n",
    "print(\"95th percentile:   \", np.percentile(ques_array, 95))\n",
    "print(\"99th percentile:   \", np.percentile(ques_array, 99))"
   ]
  },
  {
   "cell_type": "code",
   "execution_count": 17,
   "metadata": {
    "ExecuteTime": {
     "end_time": "2020-12-08T08:24:14.812957Z",
     "start_time": "2020-12-08T08:24:14.762869Z"
    }
   },
   "outputs": [
    {
     "name": "stdout",
     "output_type": "stream",
     "text": [
      "85545\n"
     ]
    }
   ],
   "source": [
    "train_ans = os.path.join(\"./data/preprocessed\",\"train.answer\")\n",
    "\n",
    "ans_len = []\n",
    "\n",
    "with open(train_ans) as fp:  \n",
    "    lines = fp.readlines()\n",
    "    print(len(lines))\n",
    "    for line in lines:\n",
    "        words = len(line.split())\n",
    "        ans_len.append(words)"
   ]
  },
  {
   "cell_type": "code",
   "execution_count": 18,
   "metadata": {
    "ExecuteTime": {
     "end_time": "2020-12-08T08:24:14.991713Z",
     "start_time": "2020-12-08T08:24:14.814135Z"
    }
   },
   "outputs": [
    {
     "data": {
      "image/png": "[encoded data removed]",
      "text/plain": [
       "<Figure size 432x288 with 1 Axes>"
      ]
     },
     "metadata": {},
     "output_type": "display_data"
    }
   ],
   "source": [
    "plt.plot(ans_len)\n",
    "plt.ylabel('Answer Length')\n",
    "plt.show()"
   ]
  },
  {
   "cell_type": "code",
   "execution_count": 19,
   "metadata": {
    "ExecuteTime": {
     "end_time": "2020-12-08T08:24:15.007571Z",
     "start_time": "2020-12-08T08:24:14.992745Z"
    }
   },
   "outputs": [
    {
     "name": "stdout",
     "output_type": "stream",
     "text": [
      "Min:    1\n",
      "Max:    46\n",
      "Mean:    3.3839499678531766\n",
      "25th percentile:    1.0\n",
      "Median:             2.0\n",
      "75th percentile:    4.0\n",
      "95th percentile:    11.0\n",
      "99th percentile:    21.0\n"
     ]
    }
   ],
   "source": [
    "ans_array = np.array(ans_len)\n",
    "\n",
    "print(\"Min:   \", np.min(ans_array))\n",
    "print(\"Max:   \", np.max(ans_array))\n",
    "print(\"Mean:   \", np.mean(ans_array))\n",
    "print(\"25th percentile:   \", np.percentile(ans_array, 25))\n",
    "print(\"Median:            \", np.median(ans_array))\n",
    "print(\"75th percentile:   \", np.percentile(ans_array, 75))\n",
    "print(\"95th percentile:   \", np.percentile(ans_array, 95))\n",
    "print(\"99th percentile:   \", np.percentile(ans_array, 99))"
   ]
  },
  {
   "cell_type": "code",
   "execution_count": 20,
   "metadata": {
    "ExecuteTime": {
     "end_time": "2020-12-08T08:24:15.768446Z",
     "start_time": "2020-12-08T08:24:15.008632Z"
    }
   },
   "outputs": [
    {
     "name": "stderr",
     "output_type": "stream",
     "text": [
      "/home/pallavi/git/course/nlpclass-1207-g-enigma/project/qa_env/lib/python3.7/site-packages/seaborn/distributions.py:2551: FutureWarning: `distplot` is a deprecated function and will be removed in a future version. Please adapt your code to use either `displot` (a figure-level function with similar flexibility) or `histplot` (an axes-level function for histograms).\n",
      "  warnings.warn(msg, FutureWarning)\n"
     ]
    },
    {
     "data": {
      "image/png": "[encoded data removed]",
      "text/plain": [
       "<Figure size 432x288 with 1 Axes>"
      ]
     },
     "metadata": {},
     "output_type": "display_data"
    }
   ],
   "source": [
    "import matplotlib.pyplot as plt\n",
    "%matplotlib inline\n",
    "import seaborn as sns\n",
    "sns.set(color_codes=True)\n",
    "ax = sns.distplot(ans_len)\n",
    "ax.set_title('Distribution of Answer Length')\n",
    "ax.set_ylabel('Density')\n",
    "plt.savefig('./assets/answer_length.png')\n",
    "plt.show()"
   ]
  },
  {
   "cell_type": "code",
   "execution_count": 21,
   "metadata": {
    "ExecuteTime": {
     "end_time": "2020-12-08T08:24:15.904873Z",
     "start_time": "2020-12-08T08:24:15.769686Z"
    }
   },
   "outputs": [
    {
     "ename": "FileNotFoundError",
     "evalue": "[Errno 2] No such file or directory: './data/preprocessed/./assets/train.span'",
     "output_type": "error",
     "traceback": [
      "\u001b[0;31m---------------------------------------------------------------------------\u001b[0m",
      "\u001b[0;31mFileNotFoundError\u001b[0m                         Traceback (most recent call last)",
      "\u001b[0;32m<ipython-input-21-9e9c5c6f6fe2>\u001b[0m in \u001b[0;36m<module>\u001b[0;34m\u001b[0m\n\u001b[1;32m      4\u001b[0m \u001b[0mans_end\u001b[0m \u001b[0;34m=\u001b[0m \u001b[0;34m[\u001b[0m\u001b[0;34m]\u001b[0m\u001b[0;34m\u001b[0m\u001b[0;34m\u001b[0m\u001b[0m\n\u001b[1;32m      5\u001b[0m \u001b[0;34m\u001b[0m\u001b[0m\n\u001b[0;32m----> 6\u001b[0;31m \u001b[0;32mwith\u001b[0m \u001b[0mopen\u001b[0m\u001b[0;34m(\u001b[0m\u001b[0mtrain_ans\u001b[0m\u001b[0;34m)\u001b[0m \u001b[0;32mas\u001b[0m \u001b[0mfp\u001b[0m\u001b[0;34m:\u001b[0m\u001b[0;34m\u001b[0m\u001b[0;34m\u001b[0m\u001b[0m\n\u001b[0m\u001b[1;32m      7\u001b[0m     \u001b[0mlines\u001b[0m \u001b[0;34m=\u001b[0m \u001b[0mfp\u001b[0m\u001b[0;34m.\u001b[0m\u001b[0mreadlines\u001b[0m\u001b[0;34m(\u001b[0m\u001b[0;34m)\u001b[0m\u001b[0;34m\u001b[0m\u001b[0;34m\u001b[0m\u001b[0m\n\u001b[1;32m      8\u001b[0m     \u001b[0mprint\u001b[0m\u001b[0;34m(\u001b[0m\u001b[0mlen\u001b[0m\u001b[0;34m(\u001b[0m\u001b[0mlines\u001b[0m\u001b[0;34m)\u001b[0m\u001b[0;34m)\u001b[0m\u001b[0;34m\u001b[0m\u001b[0;34m\u001b[0m\u001b[0m\n",
      "\u001b[0;31mFileNotFoundError\u001b[0m: [Errno 2] No such file or directory: './data/preprocessed/./assets/train.span'"
     ]
    }
   ],
   "source": [
    "train_ans = os.path.join(\"./data/preprocessed\",\"./assets/train.span\")\n",
    "\n",
    "ans_start = []\n",
    "ans_end = []\n",
    "\n",
    "with open(train_ans) as fp:  \n",
    "    lines = fp.readlines()\n",
    "    print(len(lines))\n",
    "    for line in lines:\n",
    "        words = line.split()\n",
    "        ans_start.append(int(words[0]))\n",
    "        ans_end.append(int(words[1]))"
   ]
  },
  {
   "cell_type": "code",
   "execution_count": null,
   "metadata": {
    "ExecuteTime": {
     "end_time": "2020-12-08T08:24:15.906248Z",
     "start_time": "2020-12-08T08:23:27.032Z"
    }
   },
   "outputs": [],
   "source": [
    "ans_start_array = np.array(ans_start)\n",
    "ans_start_relative = np.true_divide(ans_start_array, context_array)"
   ]
  },
  {
   "cell_type": "code",
   "execution_count": null,
   "metadata": {
    "ExecuteTime": {
     "end_time": "2020-12-08T08:24:15.907017Z",
     "start_time": "2020-12-08T08:23:27.034Z"
    }
   },
   "outputs": [],
   "source": [
    "import matplotlib.pyplot as plt\n",
    "%matplotlib inline\n",
    "import seaborn as sns\n",
    "sns.set(color_codes=True)\n",
    "ax = sns.distplot(ans_start_relative)\n",
    "ax.set_title('Distribution of Answer Start Index relative to Context Length')\n",
    "ax.set_ylabel('Answer Start Idx ratio')\n",
    "plt.savefig('./assets/answer_start_ratio.png')\n",
    "plt.show()"
   ]
  }
 ],
 "metadata": {
  "kernelspec": {
   "display_name": "Python 3",
   "language": "python",
   "name": "python3"
  },
  "language_info": {
   "codemirror_mode": {
    "name": "ipython",
    "version": 3
   },
   "file_extension": ".py",
   "mimetype": "text/x-python",
   "name": "python",
   "nbconvert_exporter": "python",
   "pygments_lexer": "ipython3",
   "version": "3.7.4"
  }
 },
 "nbformat": 4,
 "nbformat_minor": 4
}
