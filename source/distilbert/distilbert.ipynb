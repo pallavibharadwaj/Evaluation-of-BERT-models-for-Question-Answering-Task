{
 "cells": [
  {
   "cell_type": "code",
   "execution_count": 1,
   "metadata": {
    "ExecuteTime": {
     "end_time": "2020-11-20T21:36:52.626462Z",
     "start_time": "2020-11-20T21:36:47.973222Z"
    },
    "scrolled": true
   },
   "outputs": [
    {
     "name": "stdout",
     "output_type": "stream",
     "text": [
      "True 0\n"
     ]
    }
   ],
   "source": [
    "from simpletransformers.question_answering import QuestionAnsweringModel\n",
    "import os\n",
    "import json\n",
    "import transformers\n",
    "import torch\n",
    "import warnings\n",
    "\n",
    "warnings.simplefilter(action='ignore', category=FutureWarning)\n",
    "print(torch.cuda.is_available(), torch.cuda.current_device())"
   ]
  },
  {
   "cell_type": "markdown",
   "metadata": {},
   "source": [
    "### Training"
   ]
  },
  {
   "cell_type": "code",
   "execution_count": 2,
   "metadata": {
    "ExecuteTime": {
     "end_time": "2020-11-20T21:36:53.196898Z",
     "start_time": "2020-11-20T21:36:52.628182Z"
    },
    "scrolled": true
   },
   "outputs": [
    {
     "data": {
      "text/plain": [
       "19035"
      ]
     },
     "execution_count": 2,
     "metadata": {},
     "output_type": "execute_result"
    }
   ],
   "source": [
    "# load train data into a dictionary\n",
    "with open('../../data/train-v2.0.json', 'r') as f:\n",
    "    train_data = json.load(f)\n",
    "train_data = [item for topic in train_data['data'] for item in topic['paragraphs'] ]\n",
    "\n",
    "len(train_data)"
   ]
  },
  {
   "cell_type": "code",
   "execution_count": 3,
   "metadata": {
    "ExecuteTime": {
     "end_time": "2020-11-20T21:37:03.610299Z",
     "start_time": "2020-11-20T21:36:53.199932Z"
    }
   },
   "outputs": [],
   "source": [
    "train_args = {\n",
    "    'output_dir': 'checkpoints/',\n",
    "    'overwrite_output_dir': True,\n",
    "    'learning_rate': 3e-5,\n",
    "    'num_train_epochs': 2,\n",
    "    'max_seq_length': 384,\n",
    "    'doc_stride': 128,\n",
    "    'overwrite_output_dir': True,\n",
    "    'reprocess_input_data': False,\n",
    "    'train_batch_size': 8,\n",
    "    'gradient_accumulation_steps': 8,\n",
    "}\n",
    "model = QuestionAnsweringModel(model_type='distilbert', \n",
    "                               model_name='distilbert-base-uncased-distilled-squad',\n",
    "                               args=train_args, \n",
    "                               use_cuda=True,\n",
    "                               cuda_device=0)"
   ]
  },
  {
   "cell_type": "code",
   "execution_count": null,
   "metadata": {
    "ExecuteTime": {
     "start_time": "2020-11-20T21:36:47.982Z"
    },
    "scrolled": false
   },
   "outputs": [
    {
     "name": "stderr",
     "output_type": "stream",
     "text": [
      "convert squad examples to features:  70%|███████   | 91501/130319 [05:29<40:29, 15.98it/s]   Exception in thread Thread-4:\n",
      "Traceback (most recent call last):\n",
      "  File \"/home/pallavi/anaconda3/envs/venv/lib/python3.6/threading.py\", line 916, in _bootstrap_inner\n",
      "    self.run()\n",
      "  File \"/home/pallavi/anaconda3/envs/venv/lib/python3.6/threading.py\", line 864, in run\n",
      "    self._target(*self._args, **self._kwargs)\n",
      "  File \"/home/pallavi/anaconda3/envs/venv/lib/python3.6/multiprocessing/pool.py\", line 405, in _handle_workers\n",
      "    pool._maintain_pool()\n",
      "  File \"/home/pallavi/anaconda3/envs/venv/lib/python3.6/multiprocessing/pool.py\", line 246, in _maintain_pool\n",
      "    self._repopulate_pool()\n",
      "  File \"/home/pallavi/anaconda3/envs/venv/lib/python3.6/multiprocessing/pool.py\", line 239, in _repopulate_pool\n",
      "    w.start()\n",
      "  File \"/home/pallavi/anaconda3/envs/venv/lib/python3.6/multiprocessing/process.py\", line 105, in start\n",
      "    self._popen = self._Popen(self)\n",
      "  File \"/home/pallavi/anaconda3/envs/venv/lib/python3.6/multiprocessing/context.py\", line 277, in _Popen\n",
      "    return Popen(process_obj)\n",
      "  File \"/home/pallavi/anaconda3/envs/venv/lib/python3.6/multiprocessing/popen_fork.py\", line 19, in __init__\n",
      "    self._launch(process_obj)\n",
      "  File \"/home/pallavi/anaconda3/envs/venv/lib/python3.6/multiprocessing/popen_fork.py\", line 66, in _launch\n",
      "    self.pid = os.fork()\n",
      "OSError: [Errno 12] Cannot allocate memory\n",
      "\n",
      "convert squad examples to features:  70%|███████   | 91501/130319 [05:48<40:29, 15.98it/s]"
     ]
    }
   ],
   "source": [
    "model.train_model(train_data=train_data, output_dir='checkpoints/', use_cuda=True, cuda_device=0)"
   ]
  },
  {
   "cell_type": "markdown",
   "metadata": {
    "ExecuteTime": {
     "end_time": "2020-11-20T08:17:04.842643Z",
     "start_time": "2020-11-20T08:17:04.840642Z"
    }
   },
   "source": [
    "### Evaluation on dev data"
   ]
  },
  {
   "cell_type": "code",
   "execution_count": null,
   "metadata": {
    "ExecuteTime": {
     "start_time": "2020-11-20T21:36:47.984Z"
    }
   },
   "outputs": [],
   "source": [
    "# load the trained model\n",
    "model = QuestionAnsweringModel(model_type='distilbert', \n",
    "                               model_name='checkpoints/', \n",
    "                               args=train_args, \n",
    "                               use_cuda=True)"
   ]
  },
  {
   "cell_type": "code",
   "execution_count": null,
   "metadata": {
    "ExecuteTime": {
     "start_time": "2020-11-20T21:36:47.986Z"
    }
   },
   "outputs": [],
   "source": [
    "# load dev data into a dictionary\n",
    "with open('../../data/dev-v2.0.json', 'r') as f:\n",
    "    dev_data = json.load(f)\n",
    "    \n",
    "dev_data = [item for topic in dev_data['data'] for item in topic['paragraphs'] ]\n",
    "\n",
    "len(dev_data)"
   ]
  },
  {
   "cell_type": "code",
   "execution_count": null,
   "metadata": {
    "ExecuteTime": {
     "start_time": "2020-11-20T21:36:47.986Z"
    }
   },
   "outputs": [],
   "source": [
    "preds, _ = model.predict(dev_data)\n",
    "\n",
    "predictions = {pred['id']: pred['answer'][0] for pred in preds}\n",
    "len(predictions)"
   ]
  },
  {
   "cell_type": "code",
   "execution_count": null,
   "metadata": {
    "ExecuteTime": {
     "start_time": "2020-11-20T21:36:47.988Z"
    }
   },
   "outputs": [],
   "source": [
    "# write output to predictions file\n",
    "os.makedirs('output', exist_ok=True)\n",
    "with open('output/predictions.json', 'w') as f:\n",
    "    json.dump(predictions, f)"
   ]
  }
 ],
 "metadata": {
  "kernelspec": {
   "display_name": "Python [conda env:venv] *",
   "language": "python",
   "name": "conda-env-venv-py"
  },
  "language_info": {
   "codemirror_mode": {
    "name": "ipython",
    "version": 3
   },
   "file_extension": ".py",
   "mimetype": "text/x-python",
   "name": "python",
   "nbconvert_exporter": "python",
   "pygments_lexer": "ipython3",
   "version": "3.6.12"
  }
 },
 "nbformat": 4,
 "nbformat_minor": 4
}
